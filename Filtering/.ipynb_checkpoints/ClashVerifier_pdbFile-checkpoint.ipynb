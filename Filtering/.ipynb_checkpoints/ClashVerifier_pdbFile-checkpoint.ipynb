{
 "cells": [
  {
   "cell_type": "code",
   "execution_count": 4,
   "id": "66cba555",
   "metadata": {},
   "outputs": [],
   "source": [
    "import math\n",
    "\n",
    "# Dictionary of Van der Waals radii in Angstroms for common CHONPS atoms\n",
    "van_der_waals_radii = {\n",
    "    'H': 1.2,  # Hydrogen\n",
    "    'C': 1.7,  # Carbon\n",
    "    'N': 1.55,  # Nitrogen\n",
    "    'O': 1.52,  # Oxygen\n",
    "    'S': 1.8,   # Sulfur\n",
    "    'P': 1.8    # Phosphorus (in phosphate groups)\n",
    "}\n",
    "\n",
    "#### Same as stateAnalysis_tools for eventual functions merge\n",
    "def parse_pdb(file_path):\n",
    "    with open(file_path, 'r') as file:\n",
    "        lines = file.readlines()\n",
    "    return lines\n",
    "\n",
    "def get_atom_coordinates(lines):\n",
    "    atoms = []\n",
    "    for line in lines:\n",
    "        if line.startswith('ATOM') or line.startswith('HETATM'):\n",
    "            try:\n",
    "                atom_name = line[12:16].strip()[0]  # First letter represents element (H, C, N, O, S, P, etc.)\n",
    "                x = float(line[30:38].strip())\n",
    "                y = float(line[38:46].strip())\n",
    "                z = float(line[46:54].strip())\n",
    "                atoms.append((atom_name, x, y, z))\n",
    "            except ValueError:\n",
    "                print(f\"Error parsing line: {line}\")\n",
    "    return atoms\n",
    "\n",
    "def calculate_distance(atom1, atom2):\n",
    "    _, x1, y1, z1 = atom1\n",
    "    _, x2, y2, z2 = atom2\n",
    "    return math.sqrt((x2 - x1)**2 + (y2 - y1)**2 + (z2 - z1)**2)\n",
    "################################\n",
    "\n",
    "# New stuff:\n",
    "def check_clashes(atoms):\n",
    "    clashes = []\n",
    "    for i, atom1 in enumerate(atoms):\n",
    "        for j, atom2 in enumerate(atoms):\n",
    "            if i != j:\n",
    "                dist = calculate_distance(atom1, atom2)\n",
    "                # Check for Van der Waals clash\n",
    "                atom1_name, atom2_name = atom1[0], atom2[0]\n",
    "                radius1 = van_der_waals_radii.get(atom1_name, 1.7)  # Default to 1.7 for unknown atoms\n",
    "                radius2 = van_der_waals_radii.get(atom2_name, 1.7)\n",
    "                if dist < radius1 + radius2:\n",
    "                    clashes.append((atom1, atom2, dist))\n",
    "    \n",
    "    return clashes"
   ]
  },
  {
   "cell_type": "code",
   "execution_count": null,
   "id": "27d2dda2",
   "metadata": {},
   "outputs": [],
   "source": [
    "# Example usage:\n",
    "file_path = '/Users/adrianahernandezgonzalez/LabNotebook/10-24/states/partialAlphaCaV12HS8HLPlocalrun_b3702_8_16_10/pdb/model_1_ptm_r0_seed0.pdb'\n",
    "lines = parse_pdb(file_path)\n",
    "atoms = get_atom_coordinates(lines)\n",
    "clashes = check_clashes(atoms)\n",
    "\n",
    "if clashes:\n",
    "    print(f\"Clashes found: {len(clashes)}\")\n",
    "    for clash in clashes:\n",
    "        print(f\"Clash between {clash[0]} and {clash[1]} at distance {clash[2]:.2f} Å\")\n",
    "else:\n",
    "    print(\"No clashes found.\")"
   ]
  },
  {
   "cell_type": "code",
   "execution_count": null,
   "id": "4a282a8f",
   "metadata": {},
   "outputs": [],
   "source": []
  }
 ],
 "metadata": {
  "kernelspec": {
   "display_name": "Python 3 (ipykernel)",
   "language": "python",
   "name": "python3"
  },
  "language_info": {
   "codemirror_mode": {
    "name": "ipython",
    "version": 3
   },
   "file_extension": ".py",
   "mimetype": "text/x-python",
   "name": "python",
   "nbconvert_exporter": "python",
   "pygments_lexer": "ipython3",
   "version": "3.10.9"
  }
 },
 "nbformat": 4,
 "nbformat_minor": 5
}
