{
 "cells": [
  {
   "cell_type": "code",
   "execution_count": null,
   "id": "66960835",
   "metadata": {},
   "outputs": [],
   "source": [
    "import os\n",
    "import json\n",
    "import numpy as np\n",
    "import matplotlib.pyplot as plt\n",
    "\n",
    "# Set your folder path\n",
    "folder_path = \"/path/to/your/folder\"\n",
    "\n",
    "# Function to load and plot PAE data\n",
    "def plot_pae(pae_data, output_path):\n",
    "    plt.figure(figsize=(10, 8))\n",
    "    plt.imshow(pae_data, cmap=\"viridis\", origin=\"lower\")\n",
    "    plt.colorbar(label=\"PAE (Predicted Aligned Error)\")\n",
    "    plt.title(\"PAE Map\")\n",
    "    plt.xlabel(\"Residue\")\n",
    "    plt.ylabel(\"Residue\")\n",
    "    plt.savefig(output_path)\n",
    "    plt.close()\n",
    "\n",
    "# Iterate over all files in the folder\n",
    "for root, _, files in os.walk(folder_path):\n",
    "    for file in files:\n",
    "        if file.endswith(\".json\"):\n",
    "            json_path = os.path.join(root, file)\n",
    "            png_path = os.path.join(root, f\"{os.path.splitext(file)[0]}_pae.png\")\n",
    "\n",
    "            # Load PAE data from JSON\n",
    "            with open(json_path, 'r') as f:\n",
    "                data = json.load(f)\n",
    "                if \"pae\" in data:\n",
    "                    pae_data = np.array(data[\"pae\"])\n",
    "                    plot_pae(pae_data, png_path)\n",
    "                else:\n",
    "                    print(f\"No PAE data found in {json_path}\")\n"
   ]
  }
 ],
 "metadata": {
  "kernelspec": {
   "display_name": "Python 3 (ipykernel)",
   "language": "python",
   "name": "python3"
  },
  "language_info": {
   "codemirror_mode": {
    "name": "ipython",
    "version": 3
   },
   "file_extension": ".py",
   "mimetype": "text/x-python",
   "name": "python",
   "nbconvert_exporter": "python",
   "pygments_lexer": "ipython3",
   "version": "3.10.9"
  }
 },
 "nbformat": 4,
 "nbformat_minor": 5
}
